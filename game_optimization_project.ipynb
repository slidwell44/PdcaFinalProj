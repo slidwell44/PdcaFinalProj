{
 "cells": [
  {
   "metadata": {},
   "cell_type": "markdown",
   "source": "# Game Optimization Project",
   "id": "cf06cf15fb72e0c3"
  },
  {
   "cell_type": "code",
   "id": "initial_id",
   "metadata": {
    "collapsed": true,
    "ExecuteTime": {
     "end_time": "2024-12-05T07:21:51.965735Z",
     "start_time": "2024-12-05T07:21:51.229159Z"
    }
   },
   "source": "from src.utils import TicTacToe, ConnectFour",
   "outputs": [],
   "execution_count": 1
  },
  {
   "metadata": {
    "ExecuteTime": {
     "end_time": "2024-12-05T07:21:57.535035Z",
     "start_time": "2024-12-05T07:21:55.084846Z"
    }
   },
   "cell_type": "code",
   "source": "game1 = TicTacToe()",
   "id": "16da7a90ec4815a9",
   "outputs": [],
   "execution_count": 2
  },
  {
   "metadata": {
    "ExecuteTime": {
     "end_time": "2024-12-05T07:22:01.700068Z",
     "start_time": "2024-12-05T07:21:59.330159Z"
    }
   },
   "cell_type": "code",
   "source": "game1.get_game().model_dump()",
   "id": "e2f824d39341f59e",
   "outputs": [
    {
     "data": {
      "text/plain": [
       "{'id': UUID('7e9de6b2-47d3-449d-8c9a-42253bf08733'),\n",
       " 'createdat': datetime.datetime(2024, 12, 5, 7, 10, 48, 883678),\n",
       " 'winner': None,\n",
       " 'game_type': <GameType.TIC_TAC_TOE: 'TicTacToe'>,\n",
       " 'moves': []}"
      ]
     },
     "execution_count": 3,
     "metadata": {},
     "output_type": "execute_result"
    }
   ],
   "execution_count": 3
  },
  {
   "metadata": {
    "ExecuteTime": {
     "end_time": "2024-12-05T07:22:15.605928Z",
     "start_time": "2024-12-05T07:22:13.236476Z"
    }
   },
   "cell_type": "code",
   "source": "game2 = ConnectFour()",
   "id": "cf71e555f32a001",
   "outputs": [],
   "execution_count": 4
  },
  {
   "metadata": {
    "ExecuteTime": {
     "end_time": "2024-12-05T07:22:23.384195Z",
     "start_time": "2024-12-05T07:22:20.974810Z"
    }
   },
   "cell_type": "code",
   "source": "game2.get_game().model_dump()",
   "id": "f29f2df7c1d8b153",
   "outputs": [
    {
     "data": {
      "text/plain": [
       "{'id': UUID('f82abc64-d6df-4ce8-b290-f966366d08e7'),\n",
       " 'createdat': datetime.datetime(2024, 12, 5, 7, 10, 48, 883678),\n",
       " 'winner': None,\n",
       " 'game_type': <GameType.CONNECT_4: 'Connect4'>,\n",
       " 'moves': []}"
      ]
     },
     "execution_count": 5,
     "metadata": {},
     "output_type": "execute_result"
    }
   ],
   "execution_count": 5
  }
 ],
 "metadata": {
  "kernelspec": {
   "display_name": "Python 3",
   "language": "python",
   "name": "python3"
  },
  "language_info": {
   "codemirror_mode": {
    "name": "ipython",
    "version": 2
   },
   "file_extension": ".py",
   "mimetype": "text/x-python",
   "name": "python",
   "nbconvert_exporter": "python",
   "pygments_lexer": "ipython2",
   "version": "2.7.6"
  }
 },
 "nbformat": 4,
 "nbformat_minor": 5
}
