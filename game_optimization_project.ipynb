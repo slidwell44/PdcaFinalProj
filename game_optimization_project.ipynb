{
 "cells": [
  {
   "metadata": {},
   "cell_type": "markdown",
   "source": [
    "# Game Optimization Project Notebook\n",
    "\n",
    "Authored By: Simon Lidwell\n",
    "\n",
    "----------"
   ],
   "id": "cf06cf15fb72e0c3"
  },
  {
   "metadata": {},
   "cell_type": "markdown",
   "source": [
    "This project aims to explore game winning optimization algorithms for the sake of having fun and having a deeper understanding of how to win commonly played games like Tic-Tac-Toe and Connect4.\n",
    "\n",
    "I will start with Tic-Tac-Toe as it is a great introduction to game strategy due to the limited number of possible outcomes. Then I will move into something more complex (Connect4) and do a similar analysis.\n",
    "\n",
    "The end of this project will be contain a comprehensive analysis of game optimization theory.\n",
    "\n",
    "## Optimizing Tic-Tac-Toe"
   ],
   "id": "ab3cb1938ebc8405"
  },
  {
   "cell_type": "code",
   "id": "initial_id",
   "metadata": {
    "collapsed": true,
    "ExecuteTime": {
     "end_time": "2024-12-09T02:14:43.844422Z",
     "start_time": "2024-12-09T02:14:43.023420Z"
    }
   },
   "source": "from src.utils import TicTacToe",
   "outputs": [],
   "execution_count": 1
  },
  {
   "metadata": {
    "ExecuteTime": {
     "end_time": "2024-12-09T02:14:47.468623Z",
     "start_time": "2024-12-09T02:14:44.976548Z"
    }
   },
   "cell_type": "code",
   "source": "game1 = TicTacToe()",
   "id": "16da7a90ec4815a9",
   "outputs": [],
   "execution_count": 2
  },
  {
   "metadata": {
    "ExecuteTime": {
     "end_time": "2024-12-09T02:14:50.610028Z",
     "start_time": "2024-12-09T02:14:48.229437Z"
    }
   },
   "cell_type": "code",
   "source": "game1.get_or_create_game().model_dump()",
   "id": "e2f824d39341f59e",
   "outputs": [
    {
     "data": {
      "text/plain": [
       "{'id': UUID('ff196d7f-664a-48c8-8a24-19697877242d'),\n",
       " 'createdat': datetime.datetime(2024, 12, 9, 2, 1, 17, 442061),\n",
       " 'winner': None,\n",
       " 'game_type': <GameType.TIC_TAC_TOE: 'TicTacToe'>,\n",
       " 'moves': []}"
      ]
     },
     "execution_count": 3,
     "metadata": {},
     "output_type": "execute_result"
    }
   ],
   "execution_count": 3
  },
  {
   "metadata": {
    "ExecuteTime": {
     "end_time": "2024-12-09T02:14:54.265932Z",
     "start_time": "2024-12-09T02:14:51.914168Z"
    }
   },
   "cell_type": "code",
   "source": "game1.get_moves()",
   "id": "48e0af77d233ac18",
   "outputs": [
    {
     "data": {
      "text/plain": [
       "[]"
      ]
     },
     "execution_count": 4,
     "metadata": {},
     "output_type": "execute_result"
    }
   ],
   "execution_count": 4
  },
  {
   "metadata": {
    "ExecuteTime": {
     "end_time": "2024-12-09T02:15:28.098859Z",
     "start_time": "2024-12-09T02:14:55.548010Z"
    }
   },
   "cell_type": "code",
   "source": "game1.make_move(player='X', row=1, col=1)",
   "id": "fda49a77c4d29d6b",
   "outputs": [
    {
     "name": "stdout",
     "output_type": "stream",
     "text": [
      "0  0 | 1 | 2 \n",
      "   --------- \n",
      "1  0 | X | 2 \n",
      "   --------- \n",
      "2  0 | 1 | 2 \n",
      "AI chooses to place at (0, 0)\n",
      "0  O | 1 | 2 \n",
      "   --------- \n",
      "1  0 | X | 2 \n",
      "   --------- \n",
      "2  0 | 1 | 2 \n"
     ]
    },
    {
     "data": {
      "text/plain": [
       "'Player X make your move'"
      ]
     },
     "execution_count": 5,
     "metadata": {},
     "output_type": "execute_result"
    }
   ],
   "execution_count": 5
  },
  {
   "metadata": {
    "ExecuteTime": {
     "end_time": "2024-12-09T02:16:09.761570Z",
     "start_time": "2024-12-09T02:15:48.091858Z"
    }
   },
   "cell_type": "code",
   "source": "game1.make_move(player='X', row=0, col=1)",
   "id": "46fed11c677a765a",
   "outputs": [
    {
     "name": "stdout",
     "output_type": "stream",
     "text": [
      "0  O | X | 2 \n",
      "   --------- \n",
      "1  0 | X | 2 \n",
      "   --------- \n",
      "2  0 | 1 | 2 \n",
      "AI chooses to place at (2, 1)\n",
      "0  O | X | 2 \n",
      "   --------- \n",
      "1  0 | X | 2 \n",
      "   --------- \n",
      "2  0 | O | 2 \n"
     ]
    },
    {
     "data": {
      "text/plain": [
       "'Player X make your move'"
      ]
     },
     "execution_count": 6,
     "metadata": {},
     "output_type": "execute_result"
    }
   ],
   "execution_count": 6
  },
  {
   "metadata": {
    "ExecuteTime": {
     "end_time": "2024-12-09T02:17:04.473015Z",
     "start_time": "2024-12-09T02:16:43.307372Z"
    }
   },
   "cell_type": "code",
   "source": "game1.make_move(player='X', row=1, col=0)",
   "id": "2186fcb1554ff50f",
   "outputs": [
    {
     "name": "stdout",
     "output_type": "stream",
     "text": [
      "0  O | X | 2 \n",
      "   --------- \n",
      "1  X | X | 2 \n",
      "   --------- \n",
      "2  0 | O | 2 \n",
      "AI chooses to place at (1, 2)\n",
      "0  O | X | 2 \n",
      "   --------- \n",
      "1  X | X | O \n",
      "   --------- \n",
      "2  0 | O | 2 \n"
     ]
    },
    {
     "data": {
      "text/plain": [
       "'Player X make your move'"
      ]
     },
     "execution_count": 7,
     "metadata": {},
     "output_type": "execute_result"
    }
   ],
   "execution_count": 7
  },
  {
   "metadata": {
    "ExecuteTime": {
     "end_time": "2024-12-09T02:17:50.565353Z",
     "start_time": "2024-12-09T02:17:29.236016Z"
    }
   },
   "cell_type": "code",
   "source": "game1.make_move(player='X', row=2, col=0)",
   "id": "221b553d12752f47",
   "outputs": [
    {
     "name": "stdout",
     "output_type": "stream",
     "text": [
      "0  O | X | 2 \n",
      "   --------- \n",
      "1  X | X | O \n",
      "   --------- \n",
      "2  X | O | 2 \n",
      "AI chooses to place at (0, 2)\n",
      "0  O | X | O \n",
      "   --------- \n",
      "1  X | X | O \n",
      "   --------- \n",
      "2  X | O | 2 \n"
     ]
    },
    {
     "data": {
      "text/plain": [
       "'Player X make your move'"
      ]
     },
     "execution_count": 8,
     "metadata": {},
     "output_type": "execute_result"
    }
   ],
   "execution_count": 8
  },
  {
   "metadata": {},
   "cell_type": "markdown",
   "source": [
    "# Game Optimization Data Analysis\n",
    "\n",
    "So I used the backend to capture all the games and moves data into sqlite. This will allow me to observe trends in the game data."
   ],
   "id": "a19d0fbb05a5af2c"
  },
  {
   "metadata": {
    "ExecuteTime": {
     "end_time": "2024-12-09T02:20:26.783393Z",
     "start_time": "2024-12-09T02:20:26.778814Z"
    }
   },
   "cell_type": "code",
   "source": [
    "from src.db.dbinit import engine\n",
    "\n",
    "import polars as pl\n",
    "from sqlalchemy import text"
   ],
   "id": "90a0cf70c2a2f377",
   "outputs": [],
   "execution_count": 14
  },
  {
   "metadata": {
    "ExecuteTime": {
     "end_time": "2024-12-09T02:23:25.333083Z",
     "start_time": "2024-12-09T02:23:25.318364Z"
    }
   },
   "cell_type": "code",
   "source": [
    "db = engine.connect()\n",
    "result_df = pl.read_database(\n",
    "    query=text(\n",
    "        \"\"\"\n",
    "        SELECT games.id, \n",
    "               games.createdat, \n",
    "               games.winner, \n",
    "               games.game_type, \n",
    "               moves.id [move_id],\n",
    "               moves.player, \n",
    "               moves.row,\n",
    "               moves.col,\n",
    "               moves.timestamp\n",
    "        FROM games\n",
    "            INNER JOIN moves ON games.id = moves.game_id\n",
    "        WHERE games.winner IS NOT NULL\n",
    "        \"\"\"\n",
    "    ),\n",
    "    connection=db,\n",
    ")\n",
    "\n",
    "db.close()\n",
    "\n",
    "result_df"
   ],
   "id": "d94f6060ac2ed77",
   "outputs": [
    {
     "name": "stdout",
     "output_type": "stream",
     "text": [
      "2024-12-08 21:23:25,321 INFO sqlalchemy.engine.Engine BEGIN (implicit)\n",
      "2024-12-08 21:23:25,322 INFO sqlalchemy.engine.Engine \n",
      "        SELECT games.id, \n",
      "               games.createdat, \n",
      "               games.winner, \n",
      "               games.game_type, \n",
      "               moves.id [move_id],\n",
      "               moves.player, \n",
      "               moves.row,\n",
      "               moves.col,\n",
      "               moves.timestamp\n",
      "        FROM games\n",
      "            INNER JOIN moves ON games.id = moves.game_id\n",
      "        WHERE games.winner is not null\n",
      "        \n",
      "2024-12-08 21:23:25,322 INFO sqlalchemy.engine.Engine [generated in 0.00147s] ()\n",
      "2024-12-08 21:23:25,325 INFO sqlalchemy.engine.Engine ROLLBACK\n"
     ]
    },
    {
     "data": {
      "text/plain": [
       "shape: (23, 9)\n",
       "┌─────────────────┬─────────────────┬────────┬───────────┬───┬────────┬─────┬─────┬────────────────┐\n",
       "│ id              ┆ createdat       ┆ winner ┆ game_type ┆ … ┆ player ┆ row ┆ col ┆ timestamp      │\n",
       "│ ---             ┆ ---             ┆ ---    ┆ ---       ┆   ┆ ---    ┆ --- ┆ --- ┆ ---            │\n",
       "│ str             ┆ str             ┆ str    ┆ str       ┆   ┆ str    ┆ i64 ┆ i64 ┆ str            │\n",
       "╞═════════════════╪═════════════════╪════════╪═══════════╪═══╪════════╪═════╪═════╪════════════════╡\n",
       "│ 5c36c497-37b9-4 ┆ 2024-12-08      ┆ X      ┆ TicTacToe ┆ … ┆ X      ┆ 1   ┆ 1   ┆ 2024-12-08 06: │\n",
       "│ ecf-aca4-965dbc ┆ 06:02:32.649749 ┆        ┆           ┆   ┆        ┆     ┆     ┆ 02:32.652749   │\n",
       "│ …               ┆                 ┆        ┆           ┆   ┆        ┆     ┆     ┆                │\n",
       "│ 5c36c497-37b9-4 ┆ 2024-12-08      ┆ X      ┆ TicTacToe ┆ … ┆ O      ┆ 0   ┆ 1   ┆ 2024-12-08 06: │\n",
       "│ ecf-aca4-965dbc ┆ 06:02:32.649749 ┆        ┆           ┆   ┆        ┆     ┆     ┆ 02:32.652749   │\n",
       "│ …               ┆                 ┆        ┆           ┆   ┆        ┆     ┆     ┆                │\n",
       "│ 5c36c497-37b9-4 ┆ 2024-12-08      ┆ X      ┆ TicTacToe ┆ … ┆ X      ┆ 0   ┆ 0   ┆ 2024-12-08 06: │\n",
       "│ ecf-aca4-965dbc ┆ 06:02:32.649749 ┆        ┆           ┆   ┆        ┆     ┆     ┆ 02:32.652749   │\n",
       "│ …               ┆                 ┆        ┆           ┆   ┆        ┆     ┆     ┆                │\n",
       "│ 5c36c497-37b9-4 ┆ 2024-12-08      ┆ X      ┆ TicTacToe ┆ … ┆ O      ┆ 2   ┆ 2   ┆ 2024-12-08 06: │\n",
       "│ ecf-aca4-965dbc ┆ 06:02:32.649749 ┆        ┆           ┆   ┆        ┆     ┆     ┆ 02:32.652749   │\n",
       "│ …               ┆                 ┆        ┆           ┆   ┆        ┆     ┆     ┆                │\n",
       "│ 5c36c497-37b9-4 ┆ 2024-12-08      ┆ X      ┆ TicTacToe ┆ … ┆ X      ┆ 1   ┆ 2   ┆ 2024-12-08 06: │\n",
       "│ ecf-aca4-965dbc ┆ 06:02:32.649749 ┆        ┆           ┆   ┆        ┆     ┆     ┆ 02:32.652749   │\n",
       "│ …               ┆                 ┆        ┆           ┆   ┆        ┆     ┆     ┆                │\n",
       "│ …               ┆ …               ┆ …      ┆ …         ┆ … ┆ …      ┆ …   ┆ …   ┆ …              │\n",
       "│ ff196d7f-664a-4 ┆ 2024-12-09      ┆ Tie    ┆ TicTacToe ┆ … ┆ X      ┆ 1   ┆ 0   ┆ 2024-12-09 02: │\n",
       "│ 8c8-8a24-196978 ┆ 02:01:17.442061 ┆        ┆           ┆   ┆        ┆     ┆     ┆ 01:17.444062   │\n",
       "│ …               ┆                 ┆        ┆           ┆   ┆        ┆     ┆     ┆                │\n",
       "│ ff196d7f-664a-4 ┆ 2024-12-09      ┆ Tie    ┆ TicTacToe ┆ … ┆ O      ┆ 1   ┆ 2   ┆ 2024-12-09 02: │\n",
       "│ 8c8-8a24-196978 ┆ 02:01:17.442061 ┆        ┆           ┆   ┆        ┆     ┆     ┆ 01:17.444062   │\n",
       "│ …               ┆                 ┆        ┆           ┆   ┆        ┆     ┆     ┆                │\n",
       "│ ff196d7f-664a-4 ┆ 2024-12-09      ┆ Tie    ┆ TicTacToe ┆ … ┆ X      ┆ 2   ┆ 0   ┆ 2024-12-09 02: │\n",
       "│ 8c8-8a24-196978 ┆ 02:01:17.442061 ┆        ┆           ┆   ┆        ┆     ┆     ┆ 01:17.444062   │\n",
       "│ …               ┆                 ┆        ┆           ┆   ┆        ┆     ┆     ┆                │\n",
       "│ ff196d7f-664a-4 ┆ 2024-12-09      ┆ Tie    ┆ TicTacToe ┆ … ┆ O      ┆ 0   ┆ 2   ┆ 2024-12-09 02: │\n",
       "│ 8c8-8a24-196978 ┆ 02:01:17.442061 ┆        ┆           ┆   ┆        ┆     ┆     ┆ 01:17.444062   │\n",
       "│ …               ┆                 ┆        ┆           ┆   ┆        ┆     ┆     ┆                │\n",
       "│ ff196d7f-664a-4 ┆ 2024-12-09      ┆ Tie    ┆ TicTacToe ┆ … ┆ X      ┆ 2   ┆ 2   ┆ 2024-12-09 02: │\n",
       "│ 8c8-8a24-196978 ┆ 02:01:17.442061 ┆        ┆           ┆   ┆        ┆     ┆     ┆ 01:17.444062   │\n",
       "│ …               ┆                 ┆        ┆           ┆   ┆        ┆     ┆     ┆                │\n",
       "└─────────────────┴─────────────────┴────────┴───────────┴───┴────────┴─────┴─────┴────────────────┘"
      ],
      "text/html": [
       "<div><style>\n",
       ".dataframe > thead > tr,\n",
       ".dataframe > tbody > tr {\n",
       "  text-align: right;\n",
       "  white-space: pre-wrap;\n",
       "}\n",
       "</style>\n",
       "<small>shape: (23, 9)</small><table border=\"1\" class=\"dataframe\"><thead><tr><th>id</th><th>createdat</th><th>winner</th><th>game_type</th><th>move_id</th><th>player</th><th>row</th><th>col</th><th>timestamp</th></tr><tr><td>str</td><td>str</td><td>str</td><td>str</td><td>str</td><td>str</td><td>i64</td><td>i64</td><td>str</td></tr></thead><tbody><tr><td>&quot;5c36c497-37b9-4ecf-aca4-965dbc…</td><td>&quot;2024-12-08 06:02:32.649749&quot;</td><td>&quot;X&quot;</td><td>&quot;TicTacToe&quot;</td><td>&quot;873b7969-7b87-41f8-ae74-051847…</td><td>&quot;X&quot;</td><td>1</td><td>1</td><td>&quot;2024-12-08 06:02:32.652749&quot;</td></tr><tr><td>&quot;5c36c497-37b9-4ecf-aca4-965dbc…</td><td>&quot;2024-12-08 06:02:32.649749&quot;</td><td>&quot;X&quot;</td><td>&quot;TicTacToe&quot;</td><td>&quot;bb1c7d83-6d40-4189-b2f2-8a18d2…</td><td>&quot;O&quot;</td><td>0</td><td>1</td><td>&quot;2024-12-08 06:02:32.652749&quot;</td></tr><tr><td>&quot;5c36c497-37b9-4ecf-aca4-965dbc…</td><td>&quot;2024-12-08 06:02:32.649749&quot;</td><td>&quot;X&quot;</td><td>&quot;TicTacToe&quot;</td><td>&quot;eb09e284-6376-4485-8826-d7d3f4…</td><td>&quot;X&quot;</td><td>0</td><td>0</td><td>&quot;2024-12-08 06:02:32.652749&quot;</td></tr><tr><td>&quot;5c36c497-37b9-4ecf-aca4-965dbc…</td><td>&quot;2024-12-08 06:02:32.649749&quot;</td><td>&quot;X&quot;</td><td>&quot;TicTacToe&quot;</td><td>&quot;d829562d-9ea6-4b33-abdf-02a89e…</td><td>&quot;O&quot;</td><td>2</td><td>2</td><td>&quot;2024-12-08 06:02:32.652749&quot;</td></tr><tr><td>&quot;5c36c497-37b9-4ecf-aca4-965dbc…</td><td>&quot;2024-12-08 06:02:32.649749&quot;</td><td>&quot;X&quot;</td><td>&quot;TicTacToe&quot;</td><td>&quot;d0d09f9d-2984-4829-952e-b647ad…</td><td>&quot;X&quot;</td><td>1</td><td>2</td><td>&quot;2024-12-08 06:02:32.652749&quot;</td></tr><tr><td>&hellip;</td><td>&hellip;</td><td>&hellip;</td><td>&hellip;</td><td>&hellip;</td><td>&hellip;</td><td>&hellip;</td><td>&hellip;</td><td>&hellip;</td></tr><tr><td>&quot;ff196d7f-664a-48c8-8a24-196978…</td><td>&quot;2024-12-09 02:01:17.442061&quot;</td><td>&quot;Tie&quot;</td><td>&quot;TicTacToe&quot;</td><td>&quot;25d09eac-9e1d-498e-8978-f846ea…</td><td>&quot;X&quot;</td><td>1</td><td>0</td><td>&quot;2024-12-09 02:01:17.444062&quot;</td></tr><tr><td>&quot;ff196d7f-664a-48c8-8a24-196978…</td><td>&quot;2024-12-09 02:01:17.442061&quot;</td><td>&quot;Tie&quot;</td><td>&quot;TicTacToe&quot;</td><td>&quot;fedc7d55-5df7-45ae-8bef-0ceb89…</td><td>&quot;O&quot;</td><td>1</td><td>2</td><td>&quot;2024-12-09 02:01:17.444062&quot;</td></tr><tr><td>&quot;ff196d7f-664a-48c8-8a24-196978…</td><td>&quot;2024-12-09 02:01:17.442061&quot;</td><td>&quot;Tie&quot;</td><td>&quot;TicTacToe&quot;</td><td>&quot;a85487fb-365a-4e08-8ba8-42d3f4…</td><td>&quot;X&quot;</td><td>2</td><td>0</td><td>&quot;2024-12-09 02:01:17.444062&quot;</td></tr><tr><td>&quot;ff196d7f-664a-48c8-8a24-196978…</td><td>&quot;2024-12-09 02:01:17.442061&quot;</td><td>&quot;Tie&quot;</td><td>&quot;TicTacToe&quot;</td><td>&quot;e6b01e34-3f6a-4fdc-99ea-409867…</td><td>&quot;O&quot;</td><td>0</td><td>2</td><td>&quot;2024-12-09 02:01:17.444062&quot;</td></tr><tr><td>&quot;ff196d7f-664a-48c8-8a24-196978…</td><td>&quot;2024-12-09 02:01:17.442061&quot;</td><td>&quot;Tie&quot;</td><td>&quot;TicTacToe&quot;</td><td>&quot;4371b4b7-e3de-4271-80a9-b5888f…</td><td>&quot;X&quot;</td><td>2</td><td>2</td><td>&quot;2024-12-09 02:01:17.444062&quot;</td></tr></tbody></table></div>"
      ]
     },
     "execution_count": 18,
     "metadata": {},
     "output_type": "execute_result"
    }
   ],
   "execution_count": 18
  }
 ],
 "metadata": {
  "kernelspec": {
   "display_name": "Python 3",
   "language": "python",
   "name": "python3"
  },
  "language_info": {
   "codemirror_mode": {
    "name": "ipython",
    "version": 2
   },
   "file_extension": ".py",
   "mimetype": "text/x-python",
   "name": "python",
   "nbconvert_exporter": "python",
   "pygments_lexer": "ipython2",
   "version": "2.7.6"
  }
 },
 "nbformat": 4,
 "nbformat_minor": 5
}
