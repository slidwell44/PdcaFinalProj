{
 "cells": [
  {
   "metadata": {},
   "cell_type": "markdown",
   "source": [
    "# Game Optimization Project Notebook\n",
    "\n",
    "Authored By: Simon Lidwell\n",
    "\n",
    "----------"
   ],
   "id": "cf06cf15fb72e0c3"
  },
  {
   "metadata": {},
   "cell_type": "markdown",
   "source": [
    "This project aims to explore game winning optimization algorithms for the sake of having fun and having a deeper understanding of how to win commonly played games like Tic-Tac-Toe and Connect4.\n",
    "\n",
    "I will start with Tic-Tac-Toe as it is a great introduction to game strategy due to the limited number of possible outcomes.\n",
    "\n",
    "The end of this project will contain a comprehensive analysis of game optimization theory.\n",
    "\n",
    "## Optimizing Tic-Tac-Toe"
   ],
   "id": "ab3cb1938ebc8405"
  },
  {
   "cell_type": "code",
   "id": "initial_id",
   "metadata": {
    "collapsed": true,
    "ExecuteTime": {
     "end_time": "2024-12-11T02:15:20.192562Z",
     "start_time": "2024-12-11T02:15:20.188685Z"
    }
   },
   "source": "from src.utils import TicTacToe",
   "outputs": [],
   "execution_count": 131
  },
  {
   "metadata": {
    "ExecuteTime": {
     "end_time": "2024-12-11T02:15:23.727728Z",
     "start_time": "2024-12-11T02:15:21.314580Z"
    }
   },
   "cell_type": "code",
   "source": "game1 = TicTacToe()",
   "id": "16da7a90ec4815a9",
   "outputs": [],
   "execution_count": 132
  },
  {
   "metadata": {
    "ExecuteTime": {
     "end_time": "2024-12-11T02:15:26.631004Z",
     "start_time": "2024-12-11T02:15:24.225314Z"
    }
   },
   "cell_type": "code",
   "source": "game1.get_or_create_game().model_dump()",
   "id": "e2f824d39341f59e",
   "outputs": [
    {
     "data": {
      "text/plain": [
       "{'id': UUID('e5928e04-b018-4b4c-86b5-e7339944107e'),\n",
       " 'createdat': datetime.datetime(2024, 12, 10, 23, 5, 9, 655384),\n",
       " 'winner': None,\n",
       " 'game_type': <GameType.TIC_TAC_TOE: 'TicTacToe'>,\n",
       " 'moves': []}"
      ]
     },
     "execution_count": 133,
     "metadata": {},
     "output_type": "execute_result"
    }
   ],
   "execution_count": 133
  },
  {
   "metadata": {
    "ExecuteTime": {
     "end_time": "2024-12-11T02:15:29.081832Z",
     "start_time": "2024-12-11T02:15:26.703011Z"
    }
   },
   "cell_type": "code",
   "source": "game1.get_moves()",
   "id": "48e0af77d233ac18",
   "outputs": [
    {
     "data": {
      "text/plain": [
       "[]"
      ]
     },
     "execution_count": 134,
     "metadata": {},
     "output_type": "execute_result"
    }
   ],
   "execution_count": 134
  },
  {
   "metadata": {
    "ExecuteTime": {
     "end_time": "2024-12-11T02:15:31.530441Z",
     "start_time": "2024-12-11T02:15:29.149653Z"
    }
   },
   "cell_type": "code",
   "source": "game1.print_board()",
   "id": "664e5b4f834febf4",
   "outputs": [
    {
     "name": "stdout",
     "output_type": "stream",
     "text": [
      "0  0 | 1 | 2 \n",
      "   --------- \n",
      "1  0 | 1 | 2 \n",
      "   --------- \n",
      "2  0 | 1 | 2 \n"
     ]
    }
   ],
   "execution_count": 135
  },
  {
   "metadata": {
    "ExecuteTime": {
     "end_time": "2024-12-11T02:16:12.485012Z",
     "start_time": "2024-12-11T02:15:37.995319Z"
    }
   },
   "cell_type": "code",
   "source": "game1.make_move(player='X', row=1, col=0)",
   "id": "fda49a77c4d29d6b",
   "outputs": [
    {
     "name": "stdout",
     "output_type": "stream",
     "text": [
      "0  0 | 1 | 2 \n",
      "   --------- \n",
      "1  X | 1 | 2 \n",
      "   --------- \n",
      "2  0 | 1 | 2 \n",
      "AI chooses to place at (0, 0)\n",
      "0  O | 1 | 2 \n",
      "   --------- \n",
      "1  X | 1 | 2 \n",
      "   --------- \n",
      "2  0 | 1 | 2 \n"
     ]
    },
    {
     "data": {
      "text/plain": [
       "'Player X make your move'"
      ]
     },
     "execution_count": 136,
     "metadata": {},
     "output_type": "execute_result"
    }
   ],
   "execution_count": 136
  },
  {
   "metadata": {
    "ExecuteTime": {
     "end_time": "2024-12-11T02:18:00.300435Z",
     "start_time": "2024-12-11T02:17:38.799319Z"
    }
   },
   "cell_type": "code",
   "source": "game1.make_move(player='X', row=1, col=1)",
   "id": "46fed11c677a765a",
   "outputs": [
    {
     "name": "stdout",
     "output_type": "stream",
     "text": [
      "0  O | 1 | 2 \n",
      "   --------- \n",
      "1  X | X | 2 \n",
      "   --------- \n",
      "2  0 | 1 | 2 \n",
      "AI chooses to place at (1, 2)\n",
      "0  O | 1 | 2 \n",
      "   --------- \n",
      "1  X | X | O \n",
      "   --------- \n",
      "2  0 | 1 | 2 \n"
     ]
    },
    {
     "data": {
      "text/plain": [
       "'Player X make your move'"
      ]
     },
     "execution_count": 137,
     "metadata": {},
     "output_type": "execute_result"
    }
   ],
   "execution_count": 137
  },
  {
   "metadata": {
    "ExecuteTime": {
     "end_time": "2024-12-11T02:18:52.133083Z",
     "start_time": "2024-12-11T02:18:30.748268Z"
    }
   },
   "cell_type": "code",
   "source": "game1.make_move(player='X', row=2, col=0)",
   "id": "2186fcb1554ff50f",
   "outputs": [
    {
     "name": "stdout",
     "output_type": "stream",
     "text": [
      "0  O | 1 | 2 \n",
      "   --------- \n",
      "1  X | X | O \n",
      "   --------- \n",
      "2  X | 1 | 2 \n",
      "AI chooses to place at (0, 2)\n",
      "0  O | 1 | O \n",
      "   --------- \n",
      "1  X | X | O \n",
      "   --------- \n",
      "2  X | 1 | 2 \n"
     ]
    },
    {
     "data": {
      "text/plain": [
       "'Player X make your move'"
      ]
     },
     "execution_count": 138,
     "metadata": {},
     "output_type": "execute_result"
    }
   ],
   "execution_count": 138
  },
  {
   "metadata": {
    "ExecuteTime": {
     "end_time": "2024-12-11T02:19:18.306522Z",
     "start_time": "2024-12-11T02:18:54.665221Z"
    }
   },
   "cell_type": "code",
   "source": "game1.make_move(player='X', row=0, col=1)",
   "id": "221b553d12752f47",
   "outputs": [
    {
     "name": "stdout",
     "output_type": "stream",
     "text": [
      "0  O | X | O \n",
      "   --------- \n",
      "1  X | X | O \n",
      "   --------- \n",
      "2  X | 1 | 2 \n",
      "AI chooses to place at (2, 2)\n",
      "0  O | X | O \n",
      "   --------- \n",
      "1  X | X | O \n",
      "   --------- \n",
      "2  X | 1 | O \n",
      "Cleaning up game resources.\n"
     ]
    },
    {
     "data": {
      "text/plain": [
       "'Player O wins!'"
      ]
     },
     "execution_count": 139,
     "metadata": {},
     "output_type": "execute_result"
    }
   ],
   "execution_count": 139
  },
  {
   "metadata": {
    "ExecuteTime": {
     "end_time": "2024-12-11T02:19:20.550701Z",
     "start_time": "2024-12-11T02:19:20.545236Z"
    }
   },
   "cell_type": "code",
   "source": "game1.make_move(player='X', row=2, col=2)",
   "id": "11642e5292dc84ee",
   "outputs": [
    {
     "data": {
      "text/plain": [
       "'The game is already over'"
      ]
     },
     "execution_count": 140,
     "metadata": {},
     "output_type": "execute_result"
    }
   ],
   "execution_count": 140
  },
  {
   "metadata": {},
   "cell_type": "markdown",
   "source": [
    "# Game Optimization Data Analysis\n",
    "\n",
    "So I used the backend to capture all the games and moves data into sqlite. This will allow me to observe trends in the game data."
   ],
   "id": "a19d0fbb05a5af2c"
  },
  {
   "metadata": {
    "ExecuteTime": {
     "end_time": "2024-12-11T02:19:31.850305Z",
     "start_time": "2024-12-11T02:19:31.831866Z"
    }
   },
   "cell_type": "code",
   "source": [
    "from src.db.dbinit import engine\n",
    "\n",
    "import pandas as pd\n",
    "from sqlalchemy import text\n",
    "\n",
    "db = engine.connect()\n",
    "query = text(\"\"\"\n",
    "    SELECT games.id, \n",
    "           games.createdat, \n",
    "           games.winner, \n",
    "           games.game_type, \n",
    "           moves.id AS move_id,\n",
    "           moves.player, \n",
    "           moves.row,\n",
    "           moves.col,\n",
    "           moves.timestamp\n",
    "    FROM games\n",
    "        INNER JOIN moves ON games.id = moves.game_id\n",
    "    WHERE games.winner IS NOT NULL\n",
    "\"\"\")\n",
    "result_df = pd.read_sql(query, con=db)\n",
    "db.close()\n",
    "\n",
    "result_df"
   ],
   "id": "d94f6060ac2ed77",
   "outputs": [
    {
     "name": "stdout",
     "output_type": "stream",
     "text": [
      "2024-12-10 21:19:31,834 INFO sqlalchemy.engine.Engine BEGIN (implicit)\n",
      "2024-12-10 21:19:31,836 INFO sqlalchemy.engine.Engine \n",
      "    SELECT games.id, \n",
      "           games.createdat, \n",
      "           games.winner, \n",
      "           games.game_type, \n",
      "           moves.id AS move_id,\n",
      "           moves.player, \n",
      "           moves.row,\n",
      "           moves.col,\n",
      "           moves.timestamp\n",
      "    FROM games\n",
      "        INNER JOIN moves ON games.id = moves.game_id\n",
      "    WHERE games.winner IS NOT NULL\n",
      "\n",
      "2024-12-10 21:19:31,837 INFO sqlalchemy.engine.Engine [cached since 1004s ago] ()\n",
      "2024-12-10 21:19:31,841 INFO sqlalchemy.engine.Engine ROLLBACK\n"
     ]
    },
    {
     "data": {
      "text/plain": [
       "                                       id                   createdat winner  \\\n",
       "0    ff196d7f-664a-48c8-8a24-19697877242d  2024-12-09 02:01:17.442061    Tie   \n",
       "1    ff196d7f-664a-48c8-8a24-19697877242d  2024-12-09 02:01:17.442061    Tie   \n",
       "2    ff196d7f-664a-48c8-8a24-19697877242d  2024-12-09 02:01:17.442061    Tie   \n",
       "3    ff196d7f-664a-48c8-8a24-19697877242d  2024-12-09 02:01:17.442061    Tie   \n",
       "4    ff196d7f-664a-48c8-8a24-19697877242d  2024-12-09 02:01:17.442061    Tie   \n",
       "..                                    ...                         ...    ...   \n",
       "100  e5928e04-b018-4b4c-86b5-e7339944107e  2024-12-10 23:05:09.655384      O   \n",
       "101  e5928e04-b018-4b4c-86b5-e7339944107e  2024-12-10 23:05:09.655384      O   \n",
       "102  e5928e04-b018-4b4c-86b5-e7339944107e  2024-12-10 23:05:09.655384      O   \n",
       "103  e5928e04-b018-4b4c-86b5-e7339944107e  2024-12-10 23:05:09.655384      O   \n",
       "104  e5928e04-b018-4b4c-86b5-e7339944107e  2024-12-10 23:05:09.655384      O   \n",
       "\n",
       "     game_type                               move_id player  row  col  \\\n",
       "0    TicTacToe  1ef0ca71-f1f8-4ec0-8655-36d971c1812d      X    1    1   \n",
       "1    TicTacToe  f8eda28d-6e9d-4c29-9159-a19e9b914187      O    0    0   \n",
       "2    TicTacToe  c60939f9-9bff-4bb1-8636-2698cc6edd6b      X    0    1   \n",
       "3    TicTacToe  fb7f9664-9355-4446-946a-d84396c14912      O    2    1   \n",
       "4    TicTacToe  25d09eac-9e1d-498e-8978-f846eab5f7ec      X    1    0   \n",
       "..         ...                                   ...    ...  ...  ...   \n",
       "100  TicTacToe  79f3ae73-2eb4-4285-bc7d-d9af34a0595b      O    1    2   \n",
       "101  TicTacToe  9147655d-9a6f-4882-8b09-88b3fabaf947      X    2    0   \n",
       "102  TicTacToe  475b12b2-f9e2-4f1d-be45-862ab853d937      O    0    2   \n",
       "103  TicTacToe  fef17930-4d96-4798-aa54-69fa6c9a4dd2      X    0    1   \n",
       "104  TicTacToe  d3d36006-3c44-45ef-8a3b-5fdd29f9aa4c      O    2    2   \n",
       "\n",
       "                      timestamp  \n",
       "0    2024-12-09 02:01:17.444062  \n",
       "1    2024-12-09 02:01:17.444062  \n",
       "2    2024-12-09 02:01:17.444062  \n",
       "3    2024-12-09 02:01:17.444062  \n",
       "4    2024-12-09 02:01:17.444062  \n",
       "..                          ...  \n",
       "100  2024-12-10 23:05:09.658384  \n",
       "101  2024-12-10 23:05:09.658384  \n",
       "102  2024-12-10 23:05:09.658384  \n",
       "103  2024-12-10 23:05:09.658384  \n",
       "104  2024-12-10 23:05:09.658384  \n",
       "\n",
       "[105 rows x 9 columns]"
      ],
      "text/html": [
       "<div>\n",
       "<style scoped>\n",
       "    .dataframe tbody tr th:only-of-type {\n",
       "        vertical-align: middle;\n",
       "    }\n",
       "\n",
       "    .dataframe tbody tr th {\n",
       "        vertical-align: top;\n",
       "    }\n",
       "\n",
       "    .dataframe thead th {\n",
       "        text-align: right;\n",
       "    }\n",
       "</style>\n",
       "<table border=\"1\" class=\"dataframe\">\n",
       "  <thead>\n",
       "    <tr style=\"text-align: right;\">\n",
       "      <th></th>\n",
       "      <th>id</th>\n",
       "      <th>createdat</th>\n",
       "      <th>winner</th>\n",
       "      <th>game_type</th>\n",
       "      <th>move_id</th>\n",
       "      <th>player</th>\n",
       "      <th>row</th>\n",
       "      <th>col</th>\n",
       "      <th>timestamp</th>\n",
       "    </tr>\n",
       "  </thead>\n",
       "  <tbody>\n",
       "    <tr>\n",
       "      <th>0</th>\n",
       "      <td>ff196d7f-664a-48c8-8a24-19697877242d</td>\n",
       "      <td>2024-12-09 02:01:17.442061</td>\n",
       "      <td>Tie</td>\n",
       "      <td>TicTacToe</td>\n",
       "      <td>1ef0ca71-f1f8-4ec0-8655-36d971c1812d</td>\n",
       "      <td>X</td>\n",
       "      <td>1</td>\n",
       "      <td>1</td>\n",
       "      <td>2024-12-09 02:01:17.444062</td>\n",
       "    </tr>\n",
       "    <tr>\n",
       "      <th>1</th>\n",
       "      <td>ff196d7f-664a-48c8-8a24-19697877242d</td>\n",
       "      <td>2024-12-09 02:01:17.442061</td>\n",
       "      <td>Tie</td>\n",
       "      <td>TicTacToe</td>\n",
       "      <td>f8eda28d-6e9d-4c29-9159-a19e9b914187</td>\n",
       "      <td>O</td>\n",
       "      <td>0</td>\n",
       "      <td>0</td>\n",
       "      <td>2024-12-09 02:01:17.444062</td>\n",
       "    </tr>\n",
       "    <tr>\n",
       "      <th>2</th>\n",
       "      <td>ff196d7f-664a-48c8-8a24-19697877242d</td>\n",
       "      <td>2024-12-09 02:01:17.442061</td>\n",
       "      <td>Tie</td>\n",
       "      <td>TicTacToe</td>\n",
       "      <td>c60939f9-9bff-4bb1-8636-2698cc6edd6b</td>\n",
       "      <td>X</td>\n",
       "      <td>0</td>\n",
       "      <td>1</td>\n",
       "      <td>2024-12-09 02:01:17.444062</td>\n",
       "    </tr>\n",
       "    <tr>\n",
       "      <th>3</th>\n",
       "      <td>ff196d7f-664a-48c8-8a24-19697877242d</td>\n",
       "      <td>2024-12-09 02:01:17.442061</td>\n",
       "      <td>Tie</td>\n",
       "      <td>TicTacToe</td>\n",
       "      <td>fb7f9664-9355-4446-946a-d84396c14912</td>\n",
       "      <td>O</td>\n",
       "      <td>2</td>\n",
       "      <td>1</td>\n",
       "      <td>2024-12-09 02:01:17.444062</td>\n",
       "    </tr>\n",
       "    <tr>\n",
       "      <th>4</th>\n",
       "      <td>ff196d7f-664a-48c8-8a24-19697877242d</td>\n",
       "      <td>2024-12-09 02:01:17.442061</td>\n",
       "      <td>Tie</td>\n",
       "      <td>TicTacToe</td>\n",
       "      <td>25d09eac-9e1d-498e-8978-f846eab5f7ec</td>\n",
       "      <td>X</td>\n",
       "      <td>1</td>\n",
       "      <td>0</td>\n",
       "      <td>2024-12-09 02:01:17.444062</td>\n",
       "    </tr>\n",
       "    <tr>\n",
       "      <th>...</th>\n",
       "      <td>...</td>\n",
       "      <td>...</td>\n",
       "      <td>...</td>\n",
       "      <td>...</td>\n",
       "      <td>...</td>\n",
       "      <td>...</td>\n",
       "      <td>...</td>\n",
       "      <td>...</td>\n",
       "      <td>...</td>\n",
       "    </tr>\n",
       "    <tr>\n",
       "      <th>100</th>\n",
       "      <td>e5928e04-b018-4b4c-86b5-e7339944107e</td>\n",
       "      <td>2024-12-10 23:05:09.655384</td>\n",
       "      <td>O</td>\n",
       "      <td>TicTacToe</td>\n",
       "      <td>79f3ae73-2eb4-4285-bc7d-d9af34a0595b</td>\n",
       "      <td>O</td>\n",
       "      <td>1</td>\n",
       "      <td>2</td>\n",
       "      <td>2024-12-10 23:05:09.658384</td>\n",
       "    </tr>\n",
       "    <tr>\n",
       "      <th>101</th>\n",
       "      <td>e5928e04-b018-4b4c-86b5-e7339944107e</td>\n",
       "      <td>2024-12-10 23:05:09.655384</td>\n",
       "      <td>O</td>\n",
       "      <td>TicTacToe</td>\n",
       "      <td>9147655d-9a6f-4882-8b09-88b3fabaf947</td>\n",
       "      <td>X</td>\n",
       "      <td>2</td>\n",
       "      <td>0</td>\n",
       "      <td>2024-12-10 23:05:09.658384</td>\n",
       "    </tr>\n",
       "    <tr>\n",
       "      <th>102</th>\n",
       "      <td>e5928e04-b018-4b4c-86b5-e7339944107e</td>\n",
       "      <td>2024-12-10 23:05:09.655384</td>\n",
       "      <td>O</td>\n",
       "      <td>TicTacToe</td>\n",
       "      <td>475b12b2-f9e2-4f1d-be45-862ab853d937</td>\n",
       "      <td>O</td>\n",
       "      <td>0</td>\n",
       "      <td>2</td>\n",
       "      <td>2024-12-10 23:05:09.658384</td>\n",
       "    </tr>\n",
       "    <tr>\n",
       "      <th>103</th>\n",
       "      <td>e5928e04-b018-4b4c-86b5-e7339944107e</td>\n",
       "      <td>2024-12-10 23:05:09.655384</td>\n",
       "      <td>O</td>\n",
       "      <td>TicTacToe</td>\n",
       "      <td>fef17930-4d96-4798-aa54-69fa6c9a4dd2</td>\n",
       "      <td>X</td>\n",
       "      <td>0</td>\n",
       "      <td>1</td>\n",
       "      <td>2024-12-10 23:05:09.658384</td>\n",
       "    </tr>\n",
       "    <tr>\n",
       "      <th>104</th>\n",
       "      <td>e5928e04-b018-4b4c-86b5-e7339944107e</td>\n",
       "      <td>2024-12-10 23:05:09.655384</td>\n",
       "      <td>O</td>\n",
       "      <td>TicTacToe</td>\n",
       "      <td>d3d36006-3c44-45ef-8a3b-5fdd29f9aa4c</td>\n",
       "      <td>O</td>\n",
       "      <td>2</td>\n",
       "      <td>2</td>\n",
       "      <td>2024-12-10 23:05:09.658384</td>\n",
       "    </tr>\n",
       "  </tbody>\n",
       "</table>\n",
       "<p>105 rows × 9 columns</p>\n",
       "</div>"
      ]
     },
     "execution_count": 141,
     "metadata": {},
     "output_type": "execute_result"
    }
   ],
   "execution_count": 141
  },
  {
   "metadata": {},
   "cell_type": "markdown",
   "source": "Something that I am interested in is what is the most common second move based on any first move? Like does minimax arbitrarily decide the second move if multiple results have the same score?",
   "id": "8496232ae02b287d"
  },
  {
   "metadata": {
    "ExecuteTime": {
     "end_time": "2024-12-11T02:19:36.155413Z",
     "start_time": "2024-12-11T02:19:34.560643Z"
    }
   },
   "cell_type": "code",
   "source": [
    "import matplotlib.pyplot as plt\n",
    "import seaborn as sns\n",
    "import numpy as np\n",
    "\n",
    "first_moves = result_df.groupby(\"id\").agg(\n",
    "    row_first=(\"row\", \"first\"),\n",
    "    col_first=(\"col\", \"first\")\n",
    ").reset_index()\n",
    "\n",
    "second_moves = (\n",
    "    result_df\n",
    "    .groupby(\"id\")\n",
    "    .nth(1)  # nth(1) gives the second row in each group\n",
    "    .reset_index()\n",
    "    .rename(columns={\"row\": \"row_second\", \"col\": \"col_second\"})\n",
    ")\n",
    "\n",
    "merged_moves = pd.merge(first_moves, second_moves[[\"id\", \"row_second\", \"col_second\"]], on=\"id\", how=\"inner\")\n",
    "\n",
    "fig, axes = plt.subplots(3, 3, figsize=(15, 15))\n",
    "fig.suptitle(\"Heatmaps of Second Moves Grouped by First Moves\", fontsize=16)\n",
    "\n",
    "for row in range(3):\n",
    "    for col in range(3):\n",
    "        filtered_moves = merged_moves[(merged_moves[\"row_first\"] == row) & (merged_moves[\"col_first\"] == col)]\n",
    "\n",
    "        heatmap_data = np.zeros((3, 3), dtype=int)\n",
    "        for _, move in filtered_moves.iterrows():\n",
    "            r2 = move[\"row_second\"]\n",
    "            c2 = move[\"col_second\"]\n",
    "            if pd.notnull(r2) and pd.notnull(c2):\n",
    "                heatmap_data[int(r2), int(c2)] += 1\n",
    "\n",
    "        # noinspection PyTypeChecker\n",
    "        sns.heatmap(\n",
    "            heatmap_data, \n",
    "            annot=True, \n",
    "            fmt=\"d\", \n",
    "            cmap=\"YlGnBu\", \n",
    "            ax=axes[row, col], \n",
    "            cbar=False,\n",
    "            xticklabels=[0, 1, 2], \n",
    "            yticklabels=[0, 1, 2]\n",
    "        )\n",
    "        axes[row, col].set_title(f\"First Move: ({row}, {col})\")\n",
    "        axes[row, col].invert_yaxis()\n",
    "\n",
    "# noinspection PyTypeChecker\n",
    "plt.tight_layout(rect=[0, 0, 1, 0.95])\n",
    "plt.show()"
   ],
   "id": "2cc1c64dcb92560a",
   "outputs": [
    {
     "data": {
      "text/plain": [
       "<Figure size 1500x1500 with 9 Axes>"
      ],
      "image/png": "[encoded data removed]"
     },
     "metadata": {},
     "output_type": "display_data"
    }
   ],
   "execution_count": 142
  }
 ],
 "metadata": {
  "kernelspec": {
   "display_name": "Python 3",
   "language": "python",
   "name": "python3"
  },
  "language_info": {
   "codemirror_mode": {
    "name": "ipython",
    "version": 2
   },
   "file_extension": ".py",
   "mimetype": "text/x-python",
   "name": "python",
   "nbconvert_exporter": "python",
   "pygments_lexer": "ipython2",
   "version": "2.7.6"
  }
 },
 "nbformat": 4,
 "nbformat_minor": 5
}
