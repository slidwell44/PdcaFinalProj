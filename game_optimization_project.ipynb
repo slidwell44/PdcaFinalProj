{
 "cells": [
  {
   "metadata": {},
   "cell_type": "markdown",
   "source": [
    "# Game Optimization Project Notebook\n",
    "\n",
    "Authored By: Simon Lidwell\n",
    "\n",
    "----------"
   ],
   "id": "cf06cf15fb72e0c3"
  },
  {
   "metadata": {},
   "cell_type": "markdown",
   "source": [
    "This project aims to explore game winning optimization algorithms for the sake of having fun and having a deeper understanding of how to win commonly played games like Tic-Tac-Toe and Connect4.\n",
    "\n",
    "I will start with Tic-Tac-Toe as it is a great introduction to game strategy due to the limited number of possible outcomes. Then I will move into something more complex (Connect4) and do a similar analysis.\n",
    "\n",
    "The end of this project will be contain a comprehensive analysis of game optimization theory.\n",
    "\n",
    "## Optimizing Tic-Tac-Toe"
   ],
   "id": "ab3cb1938ebc8405"
  },
  {
   "cell_type": "code",
   "id": "initial_id",
   "metadata": {
    "collapsed": true,
    "ExecuteTime": {
     "end_time": "2024-12-08T06:19:14.157137Z",
     "start_time": "2024-12-08T06:19:13.138327Z"
    }
   },
   "source": "from src.utils import TicTacToe, ConnectFour",
   "outputs": [],
   "execution_count": 1
  },
  {
   "metadata": {
    "ExecuteTime": {
     "end_time": "2024-12-08T06:19:16.585908Z",
     "start_time": "2024-12-08T06:19:14.161143Z"
    }
   },
   "cell_type": "code",
   "source": "game1 = TicTacToe()",
   "id": "16da7a90ec4815a9",
   "outputs": [],
   "execution_count": 2
  },
  {
   "metadata": {
    "ExecuteTime": {
     "end_time": "2024-12-08T06:19:19.239927Z",
     "start_time": "2024-12-08T06:19:16.837589Z"
    }
   },
   "cell_type": "code",
   "source": "game1.get_or_create_game().model_dump()",
   "id": "e2f824d39341f59e",
   "outputs": [
    {
     "data": {
      "text/plain": [
       "{'id': UUID('b8c77adc-1910-4e97-8e7c-e8d8a8f0065e'),\n",
       " 'createdat': datetime.datetime(2024, 12, 8, 6, 2, 32, 649749),\n",
       " 'winner': None,\n",
       " 'game_type': <GameType.TIC_TAC_TOE: 'TicTacToe'>,\n",
       " 'moves': []}"
      ]
     },
     "execution_count": 3,
     "metadata": {},
     "output_type": "execute_result"
    }
   ],
   "execution_count": 3
  },
  {
   "metadata": {
    "ExecuteTime": {
     "end_time": "2024-12-08T06:19:21.677547Z",
     "start_time": "2024-12-08T06:19:19.257588Z"
    }
   },
   "cell_type": "code",
   "source": "game1.get_moves()",
   "id": "48e0af77d233ac18",
   "outputs": [
    {
     "data": {
      "text/plain": [
       "[]"
      ]
     },
     "execution_count": 4,
     "metadata": {},
     "output_type": "execute_result"
    }
   ],
   "execution_count": 4
  },
  {
   "metadata": {
    "ExecuteTime": {
     "end_time": "2024-12-08T06:19:31.127184Z",
     "start_time": "2024-12-08T06:19:21.694218Z"
    }
   },
   "cell_type": "code",
   "source": "game1.make_move(player='X', row=1, col=1)",
   "id": "fda49a77c4d29d6b",
   "outputs": [
    {
     "name": "stdout",
     "output_type": "stream",
     "text": [
      "0  0 | 1 | 2 \n",
      "   --------- \n",
      "1  0 | X | 2 \n",
      "   --------- \n",
      "2  0 | 1 | 2 \n"
     ]
    },
    {
     "data": {
      "text/plain": [
       "\"It's player: O's turn\""
      ]
     },
     "execution_count": 5,
     "metadata": {},
     "output_type": "execute_result"
    }
   ],
   "execution_count": 5
  },
  {
   "metadata": {
    "ExecuteTime": {
     "end_time": "2024-12-08T06:19:40.546582Z",
     "start_time": "2024-12-08T06:19:31.144092Z"
    }
   },
   "cell_type": "code",
   "source": "game1.make_move(player='O', row=0, col=1)",
   "id": "46fed11c677a765a",
   "outputs": [
    {
     "name": "stdout",
     "output_type": "stream",
     "text": [
      "0  0 | O | 2 \n",
      "   --------- \n",
      "1  0 | X | 2 \n",
      "   --------- \n",
      "2  0 | 1 | 2 \n"
     ]
    },
    {
     "data": {
      "text/plain": [
       "\"It's player: X's turn\""
      ]
     },
     "execution_count": 6,
     "metadata": {},
     "output_type": "execute_result"
    }
   ],
   "execution_count": 6
  },
  {
   "metadata": {
    "ExecuteTime": {
     "end_time": "2024-12-08T06:19:50.040316Z",
     "start_time": "2024-12-08T06:19:40.563892Z"
    }
   },
   "cell_type": "code",
   "source": "game1.make_move(player='X', row=0, col=0)",
   "id": "2186fcb1554ff50f",
   "outputs": [
    {
     "name": "stdout",
     "output_type": "stream",
     "text": [
      "0  X | O | 2 \n",
      "   --------- \n",
      "1  0 | X | 2 \n",
      "   --------- \n",
      "2  0 | 1 | 2 \n"
     ]
    },
    {
     "data": {
      "text/plain": [
       "\"It's player: O's turn\""
      ]
     },
     "execution_count": 7,
     "metadata": {},
     "output_type": "execute_result"
    }
   ],
   "execution_count": 7
  },
  {
   "metadata": {
    "ExecuteTime": {
     "end_time": "2024-12-08T06:19:59.729356Z",
     "start_time": "2024-12-08T06:19:50.223394Z"
    }
   },
   "cell_type": "code",
   "source": "game1.make_move(player='O', row=2, col=2)",
   "id": "221b553d12752f47",
   "outputs": [
    {
     "name": "stdout",
     "output_type": "stream",
     "text": [
      "0  X | O | 2 \n",
      "   --------- \n",
      "1  0 | X | 2 \n",
      "   --------- \n",
      "2  0 | 1 | O \n"
     ]
    },
    {
     "data": {
      "text/plain": [
       "\"It's player: X's turn\""
      ]
     },
     "execution_count": 8,
     "metadata": {},
     "output_type": "execute_result"
    }
   ],
   "execution_count": 8
  },
  {
   "metadata": {
    "ExecuteTime": {
     "end_time": "2024-12-08T06:20:09.370390Z",
     "start_time": "2024-12-08T06:19:59.881290Z"
    }
   },
   "cell_type": "code",
   "source": "game1.make_move(player='X', row=1, col=2)",
   "id": "b3672f3af6226ff1",
   "outputs": [
    {
     "name": "stdout",
     "output_type": "stream",
     "text": [
      "0  X | O | 2 \n",
      "   --------- \n",
      "1  0 | X | X \n",
      "   --------- \n",
      "2  0 | 1 | O \n"
     ]
    },
    {
     "data": {
      "text/plain": [
       "\"It's player: O's turn\""
      ]
     },
     "execution_count": 9,
     "metadata": {},
     "output_type": "execute_result"
    }
   ],
   "execution_count": 9
  },
  {
   "metadata": {
    "ExecuteTime": {
     "end_time": "2024-12-08T06:20:19.047032Z",
     "start_time": "2024-12-08T06:20:09.528982Z"
    }
   },
   "cell_type": "code",
   "source": "game1.make_move(player='O', row=0, col=2)",
   "id": "4aa06be40505128e",
   "outputs": [
    {
     "name": "stdout",
     "output_type": "stream",
     "text": [
      "0  X | O | O \n",
      "   --------- \n",
      "1  0 | X | X \n",
      "   --------- \n",
      "2  0 | 1 | O \n"
     ]
    },
    {
     "data": {
      "text/plain": [
       "\"It's player: X's turn\""
      ]
     },
     "execution_count": 10,
     "metadata": {},
     "output_type": "execute_result"
    }
   ],
   "execution_count": 10
  },
  {
   "metadata": {
    "ExecuteTime": {
     "end_time": "2024-12-08T06:20:34.623586Z",
     "start_time": "2024-12-08T06:20:22.755276Z"
    }
   },
   "cell_type": "code",
   "source": "game1.make_move(player='X', row=1, col=0)",
   "id": "9d4e183a84106a99",
   "outputs": [
    {
     "name": "stdout",
     "output_type": "stream",
     "text": [
      "0  X | O | O \n",
      "   --------- \n",
      "1  X | X | X \n",
      "   --------- \n",
      "2  0 | 1 | O \n",
      "Cleaning up game resources.\n"
     ]
    },
    {
     "data": {
      "text/plain": [
       "'Player X wins!'"
      ]
     },
     "execution_count": 11,
     "metadata": {},
     "output_type": "execute_result"
    }
   ],
   "execution_count": 11
  },
  {
   "metadata": {},
   "cell_type": "markdown",
   "source": [
    "# Game Optimization Data Analysis\n",
    "\n",
    "So I used the backend to capture all the games and moves data into sqlite. This will allow me to observe trends in the game data."
   ],
   "id": "a19d0fbb05a5af2c"
  },
  {
   "metadata": {
    "ExecuteTime": {
     "end_time": "2024-12-05T08:31:39.423633Z",
     "start_time": "2024-12-05T08:31:39.026702Z"
    }
   },
   "cell_type": "code",
   "source": [
    "from src.db.dbinit import engine\n",
    "\n",
    "import polars as pl\n",
    "from sqlalchemy import text"
   ],
   "id": "90a0cf70c2a2f377",
   "outputs": [],
   "execution_count": 6
  },
  {
   "metadata": {
    "ExecuteTime": {
     "end_time": "2024-12-05T08:31:41.014311Z",
     "start_time": "2024-12-05T08:31:40.969518Z"
    }
   },
   "cell_type": "code",
   "source": [
    "db = engine.connect()\n",
    "result_df = pl.read_database(\n",
    "    query=text(\n",
    "        \"\"\"\n",
    "        SELECT *\n",
    "        FROM games\n",
    "            --INNER JOIN move ON games.id = move.game_id\n",
    "        \"\"\"\n",
    "    ),\n",
    "    connection=db,\n",
    ")\n",
    "\n",
    "db.close()\n",
    "\n",
    "result_df"
   ],
   "id": "d94f6060ac2ed77",
   "outputs": [
    {
     "name": "stdout",
     "output_type": "stream",
     "text": [
      "2024-12-05 03:31:41,004 INFO sqlalchemy.engine.Engine BEGIN (implicit)\n",
      "2024-12-05 03:31:41,005 INFO sqlalchemy.engine.Engine \n",
      "        SELECT *\n",
      "        FROM games\n",
      "            --INNER JOIN moves ON games.id = moves.game_id\n",
      "        \n",
      "2024-12-05 03:31:41,006 INFO sqlalchemy.engine.Engine [generated in 0.00231s] ()\n",
      "2024-12-05 03:31:41,009 INFO sqlalchemy.engine.Engine ROLLBACK\n"
     ]
    },
    {
     "data": {
      "text/plain": [
       "shape: (6, 4)\n",
       "┌─────────────────────────────────┬────────────────────────────┬────────┬───────────┐\n",
       "│ id                              ┆ createdat                  ┆ winner ┆ game_type │\n",
       "│ ---                             ┆ ---                        ┆ ---    ┆ ---       │\n",
       "│ str                             ┆ str                        ┆ null   ┆ str       │\n",
       "╞═════════════════════════════════╪════════════════════════════╪════════╪═══════════╡\n",
       "│ 89079512-3c67-44bb-9152-35b4d7… ┆ 2024-12-05 07:10:48.883678 ┆ null   ┆ TicTacToe │\n",
       "│ 7e9de6b2-47d3-449d-8c9a-42253b… ┆ 2024-12-05 07:10:48.883678 ┆ null   ┆ TicTacToe │\n",
       "│ f82abc64-d6df-4ce8-b290-f96636… ┆ 2024-12-05 07:10:48.883678 ┆ null   ┆ Connect4  │\n",
       "│ 70e03b7e-867d-4fc4-bd04-ae0fea… ┆ 2024-12-05 08:07:56.598617 ┆ null   ┆ TicTacToe │\n",
       "│ 9d72ec68-34c0-489b-9094-268d06… ┆ 2024-12-05 08:07:56.598617 ┆ null   ┆ TicTacToe │\n",
       "│ 34093513-9453-4e7f-a265-c54b7c… ┆ 2024-12-05 08:07:56.598617 ┆ null   ┆ Connect4  │\n",
       "└─────────────────────────────────┴────────────────────────────┴────────┴───────────┘"
      ],
      "text/html": [
       "<div><style>\n",
       ".dataframe > thead > tr,\n",
       ".dataframe > tbody > tr {\n",
       "  text-align: right;\n",
       "  white-space: pre-wrap;\n",
       "}\n",
       "</style>\n",
       "<small>shape: (6, 4)</small><table border=\"1\" class=\"dataframe\"><thead><tr><th>id</th><th>createdat</th><th>winner</th><th>game_type</th></tr><tr><td>str</td><td>str</td><td>null</td><td>str</td></tr></thead><tbody><tr><td>&quot;89079512-3c67-44bb-9152-35b4d7…</td><td>&quot;2024-12-05 07:10:48.883678&quot;</td><td>null</td><td>&quot;TicTacToe&quot;</td></tr><tr><td>&quot;7e9de6b2-47d3-449d-8c9a-42253b…</td><td>&quot;2024-12-05 07:10:48.883678&quot;</td><td>null</td><td>&quot;TicTacToe&quot;</td></tr><tr><td>&quot;f82abc64-d6df-4ce8-b290-f96636…</td><td>&quot;2024-12-05 07:10:48.883678&quot;</td><td>null</td><td>&quot;Connect4&quot;</td></tr><tr><td>&quot;70e03b7e-867d-4fc4-bd04-ae0fea…</td><td>&quot;2024-12-05 08:07:56.598617&quot;</td><td>null</td><td>&quot;TicTacToe&quot;</td></tr><tr><td>&quot;9d72ec68-34c0-489b-9094-268d06…</td><td>&quot;2024-12-05 08:07:56.598617&quot;</td><td>null</td><td>&quot;TicTacToe&quot;</td></tr><tr><td>&quot;34093513-9453-4e7f-a265-c54b7c…</td><td>&quot;2024-12-05 08:07:56.598617&quot;</td><td>null</td><td>&quot;Connect4&quot;</td></tr></tbody></table></div>"
      ]
     },
     "execution_count": 7,
     "metadata": {},
     "output_type": "execute_result"
    }
   ],
   "execution_count": 7
  }
 ],
 "metadata": {
  "kernelspec": {
   "display_name": "Python 3",
   "language": "python",
   "name": "python3"
  },
  "language_info": {
   "codemirror_mode": {
    "name": "ipython",
    "version": 2
   },
   "file_extension": ".py",
   "mimetype": "text/x-python",
   "name": "python",
   "nbconvert_exporter": "python",
   "pygments_lexer": "ipython2",
   "version": "2.7.6"
  }
 },
 "nbformat": 4,
 "nbformat_minor": 5
}
