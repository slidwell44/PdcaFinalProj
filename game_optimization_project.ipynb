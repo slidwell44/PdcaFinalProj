{
 "cells": [
  {
   "metadata": {},
   "cell_type": "markdown",
   "source": "# Game Optimization Project",
   "id": "cf06cf15fb72e0c3"
  },
  {
   "cell_type": "code",
   "id": "initial_id",
   "metadata": {
    "collapsed": true,
    "ExecuteTime": {
     "end_time": "2024-12-05T07:11:35.878666Z",
     "start_time": "2024-12-05T07:11:35.873735Z"
    }
   },
   "source": [
    "from src.utils import MyGame\n",
    "from src.views.game.create_game import GameType"
   ],
   "outputs": [],
   "execution_count": 4
  },
  {
   "metadata": {
    "ExecuteTime": {
     "end_time": "2024-12-05T07:11:40.598130Z",
     "start_time": "2024-12-05T07:11:38.113571Z"
    }
   },
   "cell_type": "code",
   "source": "ttt = MyGame(game_type=GameType.TIC_TAC_TOE)",
   "id": "16da7a90ec4815a9",
   "outputs": [],
   "execution_count": 5
  },
  {
   "metadata": {
    "ExecuteTime": {
     "end_time": "2024-12-05T07:13:12.104735Z",
     "start_time": "2024-12-05T07:13:09.761586Z"
    }
   },
   "cell_type": "code",
   "source": "ttt.get_game().model_dump()",
   "id": "e2f824d39341f59e",
   "outputs": [
    {
     "data": {
      "text/plain": [
       "{'id': UUID('89079512-3c67-44bb-9152-35b4d7f03cf1'),\n",
       " 'createdat': datetime.datetime(2024, 12, 5, 7, 10, 48, 883678),\n",
       " 'winner': None,\n",
       " 'game_type': <GameType.TIC_TAC_TOE: 'TicTacToe'>,\n",
       " 'moves': []}"
      ]
     },
     "execution_count": 10,
     "metadata": {},
     "output_type": "execute_result"
    }
   ],
   "execution_count": 10
  }
 ],
 "metadata": {
  "kernelspec": {
   "display_name": "Python 3",
   "language": "python",
   "name": "python3"
  },
  "language_info": {
   "codemirror_mode": {
    "name": "ipython",
    "version": 2
   },
   "file_extension": ".py",
   "mimetype": "text/x-python",
   "name": "python",
   "nbconvert_exporter": "python",
   "pygments_lexer": "ipython2",
   "version": "2.7.6"
  }
 },
 "nbformat": 4,
 "nbformat_minor": 5
}
