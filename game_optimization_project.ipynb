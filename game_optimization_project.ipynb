{
 "cells": [
  {
   "metadata": {},
   "cell_type": "markdown",
   "source": [
    "# Game Optimization Project Notebook\n",
    "\n",
    "Authored By: Simon Lidwell\n",
    "\n",
    "----------"
   ],
   "id": "cf06cf15fb72e0c3"
  },
  {
   "metadata": {},
   "cell_type": "markdown",
   "source": [
    "This project aims to explore game winning optimization algorithms for the sake of having fun and having a deeper understanding of how to win commonly played games like Tic-Tac-Toe and Connect4.\n",
    "\n",
    "I will start with Tic-Tac-Toe as it is a great introduction to game strategy due to the limited number of possible outcomes. Then I will move into something more complex (Connect4) and do a similar analysis.\n",
    "\n",
    "The end of this project will be contain a comprehensive analysis of game optimization theory.\n",
    "\n",
    "## Optimizing Tic-Tac-Toe"
   ],
   "id": "ab3cb1938ebc8405"
  },
  {
   "cell_type": "code",
   "id": "initial_id",
   "metadata": {
    "collapsed": true,
    "ExecuteTime": {
     "end_time": "2024-12-05T07:21:51.965735Z",
     "start_time": "2024-12-05T07:21:51.229159Z"
    }
   },
   "source": "from src.utils import TicTacToe, ConnectFour",
   "outputs": [],
   "execution_count": 1
  },
  {
   "metadata": {
    "ExecuteTime": {
     "end_time": "2024-12-05T07:21:57.535035Z",
     "start_time": "2024-12-05T07:21:55.084846Z"
    }
   },
   "cell_type": "code",
   "source": "game1 = TicTacToe()",
   "id": "16da7a90ec4815a9",
   "outputs": [],
   "execution_count": 2
  },
  {
   "metadata": {
    "ExecuteTime": {
     "end_time": "2024-12-05T07:22:01.700068Z",
     "start_time": "2024-12-05T07:21:59.330159Z"
    }
   },
   "cell_type": "code",
   "source": "game1.get_game().model_dump()",
   "id": "e2f824d39341f59e",
   "outputs": [
    {
     "data": {
      "text/plain": [
       "{'id': UUID('7e9de6b2-47d3-449d-8c9a-42253bf08733'),\n",
       " 'createdat': datetime.datetime(2024, 12, 5, 7, 10, 48, 883678),\n",
       " 'winner': None,\n",
       " 'game_type': <GameType.TIC_TAC_TOE: 'TicTacToe'>,\n",
       " 'moves': []}"
      ]
     },
     "execution_count": 3,
     "metadata": {},
     "output_type": "execute_result"
    }
   ],
   "execution_count": 3
  },
  {
   "metadata": {
    "ExecuteTime": {
     "end_time": "2024-12-05T07:22:15.605928Z",
     "start_time": "2024-12-05T07:22:13.236476Z"
    }
   },
   "cell_type": "code",
   "source": "game2 = ConnectFour()",
   "id": "cf71e555f32a001",
   "outputs": [],
   "execution_count": 4
  },
  {
   "metadata": {
    "ExecuteTime": {
     "end_time": "2024-12-05T07:22:23.384195Z",
     "start_time": "2024-12-05T07:22:20.974810Z"
    }
   },
   "cell_type": "code",
   "source": "game2.get_game().model_dump()",
   "id": "f29f2df7c1d8b153",
   "outputs": [
    {
     "data": {
      "text/plain": [
       "{'id': UUID('f82abc64-d6df-4ce8-b290-f966366d08e7'),\n",
       " 'createdat': datetime.datetime(2024, 12, 5, 7, 10, 48, 883678),\n",
       " 'winner': None,\n",
       " 'game_type': <GameType.CONNECT_4: 'Connect4'>,\n",
       " 'moves': []}"
      ]
     },
     "execution_count": 5,
     "metadata": {},
     "output_type": "execute_result"
    }
   ],
   "execution_count": 5
  },
  {
   "metadata": {},
   "cell_type": "markdown",
   "source": [
    "# Game Optimization Data Analysis\n",
    "\n",
    "So I used the backend to capture all the games and moves data into sqlite. This will allow me to observe trends in the game data."
   ],
   "id": "a19d0fbb05a5af2c"
  },
  {
   "metadata": {
    "ExecuteTime": {
     "end_time": "2024-12-05T08:12:31.123433Z",
     "start_time": "2024-12-05T08:12:30.735374Z"
    }
   },
   "cell_type": "code",
   "source": [
    "from src.db.dbinit import engine\n",
    "\n",
    "import polars as pl\n",
    "from sqlalchemy import text"
   ],
   "id": "90a0cf70c2a2f377",
   "outputs": [],
   "execution_count": 18
  },
  {
   "metadata": {
    "ExecuteTime": {
     "end_time": "2024-12-05T08:12:42.381272Z",
     "start_time": "2024-12-05T08:12:42.368576Z"
    }
   },
   "cell_type": "code",
   "source": [
    "db = engine.connect()\n",
    "result_df = pl.read_database(\n",
    "    query=text(\n",
    "        \"\"\"\n",
    "        SELECT *\n",
    "        FROM games\n",
    "            --INNER JOIN moves ON games.id = moves.game_id\n",
    "        \"\"\"\n",
    "    ),\n",
    "    connection=db,\n",
    ")\n",
    "\n",
    "db.close()\n",
    "\n",
    "result_df"
   ],
   "id": "d94f6060ac2ed77",
   "outputs": [
    {
     "name": "stdout",
     "output_type": "stream",
     "text": [
      "2024-12-05 03:12:42,371 INFO sqlalchemy.engine.Engine BEGIN (implicit)\n",
      "2024-12-05 03:12:42,372 INFO sqlalchemy.engine.Engine \n",
      "        SELECT *\n",
      "        FROM games\n",
      "            --INNER JOIN moves ON games.id = moves.game_id\n",
      "        \n",
      "2024-12-05 03:12:42,374 INFO sqlalchemy.engine.Engine [cached since 378.5s ago] ()\n",
      "2024-12-05 03:12:42,376 INFO sqlalchemy.engine.Engine ROLLBACK\n"
     ]
    },
    {
     "data": {
      "text/plain": [
       "shape: (3, 4)\n",
       "┌─────────────────────────────────┬────────────────────────────┬────────┬───────────┐\n",
       "│ id                              ┆ createdat                  ┆ winner ┆ game_type │\n",
       "│ ---                             ┆ ---                        ┆ ---    ┆ ---       │\n",
       "│ str                             ┆ str                        ┆ null   ┆ str       │\n",
       "╞═════════════════════════════════╪════════════════════════════╪════════╪═══════════╡\n",
       "│ 89079512-3c67-44bb-9152-35b4d7… ┆ 2024-12-05 07:10:48.883678 ┆ null   ┆ TicTacToe │\n",
       "│ 7e9de6b2-47d3-449d-8c9a-42253b… ┆ 2024-12-05 07:10:48.883678 ┆ null   ┆ TicTacToe │\n",
       "│ f82abc64-d6df-4ce8-b290-f96636… ┆ 2024-12-05 07:10:48.883678 ┆ null   ┆ Connect4  │\n",
       "└─────────────────────────────────┴────────────────────────────┴────────┴───────────┘"
      ],
      "text/html": [
       "<div><style>\n",
       ".dataframe > thead > tr,\n",
       ".dataframe > tbody > tr {\n",
       "  text-align: right;\n",
       "  white-space: pre-wrap;\n",
       "}\n",
       "</style>\n",
       "<small>shape: (3, 4)</small><table border=\"1\" class=\"dataframe\"><thead><tr><th>id</th><th>createdat</th><th>winner</th><th>game_type</th></tr><tr><td>str</td><td>str</td><td>null</td><td>str</td></tr></thead><tbody><tr><td>&quot;89079512-3c67-44bb-9152-35b4d7…</td><td>&quot;2024-12-05 07:10:48.883678&quot;</td><td>null</td><td>&quot;TicTacToe&quot;</td></tr><tr><td>&quot;7e9de6b2-47d3-449d-8c9a-42253b…</td><td>&quot;2024-12-05 07:10:48.883678&quot;</td><td>null</td><td>&quot;TicTacToe&quot;</td></tr><tr><td>&quot;f82abc64-d6df-4ce8-b290-f96636…</td><td>&quot;2024-12-05 07:10:48.883678&quot;</td><td>null</td><td>&quot;Connect4&quot;</td></tr></tbody></table></div>"
      ]
     },
     "execution_count": 20,
     "metadata": {},
     "output_type": "execute_result"
    }
   ],
   "execution_count": 20
  }
 ],
 "metadata": {
  "kernelspec": {
   "display_name": "Python 3",
   "language": "python",
   "name": "python3"
  },
  "language_info": {
   "codemirror_mode": {
    "name": "ipython",
    "version": 2
   },
   "file_extension": ".py",
   "mimetype": "text/x-python",
   "name": "python",
   "nbconvert_exporter": "python",
   "pygments_lexer": "ipython2",
   "version": "2.7.6"
  }
 },
 "nbformat": 4,
 "nbformat_minor": 5
}
